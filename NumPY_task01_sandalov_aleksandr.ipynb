{
  "nbformat": 4,
  "nbformat_minor": 0,
  "metadata": {
    "colab": {
      "provenance": [],
      "authorship_tag": "ABX9TyMzFkE1WzHgSvsP9DwHkSZo",
      "include_colab_link": true
    },
    "kernelspec": {
      "name": "python3",
      "display_name": "Python 3"
    },
    "language_info": {
      "name": "python"
    }
  },
  "cells": [
    {
      "cell_type": "markdown",
      "metadata": {
        "id": "view-in-github",
        "colab_type": "text"
      },
      "source": [
        "<a href=\"https://colab.research.google.com/github/architect-ai2023/soc-ai/blob/main/NumPY_task01_sandalov_aleksandr.ipynb\" target=\"_parent\"><img src=\"https://colab.research.google.com/assets/colab-badge.svg\" alt=\"Open In Colab\"/></a>"
      ]
    },
    {
      "cell_type": "markdown",
      "source": [
        "**Домашнее задание №4**\n",
        "\n",
        "NumPy\n",
        "\n",
        "Формулировка задания:\n",
        "\n",
        "Научиться работать с фреймворком NumPy\n",
        "План работы:\n",
        "1) Создать ноутбук в Google Colab\n",
        "2) Решить предложенные математические задачи с помощью NumPy (1 и 2 задачи\n",
        "обязательны к выполнению, остальные желательны)\n",
        "3) Открыть доступ для чтения ноутбука по ссылке[Текст ссылки](https://)\n",
        "4) Прикрепить ссылку на ноутбук в качестве ответа на домашнее задание на\n",
        "платформе learn.innopolis.university\n",
        "Перечень инструментов, необходимых для реализации\n",
        "деятельности:\n",
        "Google Colab https://colab.research.google.com/"
      ],
      "metadata": {
        "id": "nw3jEeCbF2Su"
      }
    },
    {
      "cell_type": "code",
      "source": [],
      "metadata": {
        "id": "JjenLXDdHos9"
      },
      "execution_count": null,
      "outputs": []
    },
    {
      "cell_type": "markdown",
      "source": [
        " **1 задача**\n",
        "\n",
        "Выполнить операции над матрицами: ![дз4.jpg](data:image/jpeg;base64,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)\n"
      ],
      "metadata": {
        "id": "heRDLqNOKDYG"
      }
    },
    {
      "cell_type": "code",
      "source": [
        "import numpy as np # подключаем библиотеку"
      ],
      "metadata": {
        "id": "aF1e52ViKI9H"
      },
      "execution_count": null,
      "outputs": []
    },
    {
      "cell_type": "code",
      "source": [
        "a=np.matrix('1 2 1; -2 1 1') # создаем матрицы\n",
        "print(\"матрица А:\\n\", a)\n",
        "print()\n",
        "b = np.matrix('3 1; -1 0; 2 4')\n",
        "print(\"матрица B:\\n\",b)\n",
        "print()\n",
        "c = np.matrix('-2 2; 1 -1; 1 2')\n",
        "print(\"матрица C:\\n\",b)\n",
        "print()"
      ],
      "metadata": {
        "colab": {
          "base_uri": "https://localhost:8080/"
        },
        "id": "Df4oak3_KaA0",
        "outputId": "618b1e1a-f82c-46dc-b8cd-53cc04e4e42d"
      },
      "execution_count": null,
      "outputs": [
        {
          "output_type": "stream",
          "name": "stdout",
          "text": [
            "матрица А:\n",
            " [[ 1  2  1]\n",
            " [-2  1  1]]\n",
            "\n",
            "матрица B:\n",
            " [[ 3  1]\n",
            " [-1  0]\n",
            " [ 2  4]]\n",
            "\n",
            "матрица C:\n",
            " [[ 3  1]\n",
            " [-1  0]\n",
            " [ 2  4]]\n",
            "\n"
          ]
        }
      ]
    },
    {
      "cell_type": "code",
      "source": [
        "a1 = a.transpose() # транспонируем матрицу А для сложения с матрицей В\n",
        "print(a1)"
      ],
      "metadata": {
        "colab": {
          "base_uri": "https://localhost:8080/"
        },
        "id": "xjVvxV_5TRDa",
        "outputId": "7b6b9fc9-f234-4918-e5cd-d3d1b4242c40"
      },
      "execution_count": null,
      "outputs": [
        {
          "output_type": "stream",
          "name": "stdout",
          "text": [
            "[[ 1 -2]\n",
            " [ 2  1]\n",
            " [ 1  1]]\n"
          ]
        }
      ]
    },
    {
      "cell_type": "code",
      "source": [
        "test_concat1 = a1 + 2*b\n",
        "test_concat1"
      ],
      "metadata": {
        "colab": {
          "base_uri": "https://localhost:8080/"
        },
        "id": "1XFOROZcUmSb",
        "outputId": "9ea72acd-a1ad-49cc-8bc3-f38e2a41dbce"
      },
      "execution_count": null,
      "outputs": [
        {
          "output_type": "execute_result",
          "data": {
            "text/plain": [
              "matrix([[-3,  2],\n",
              "        [ 4, -1],\n",
              "        [ 3,  5]])"
            ]
          },
          "metadata": {},
          "execution_count": 53
        }
      ]
    },
    {
      "cell_type": "code",
      "source": [
        "test_concat2 = b + 2*c\n",
        "test_concat2"
      ],
      "metadata": {
        "colab": {
          "base_uri": "https://localhost:8080/"
        },
        "id": "cFYTpRw6VZ1E",
        "outputId": "fd90d3da-7f54-4b1d-d7dd-8ea6067b7c30"
      },
      "execution_count": null,
      "outputs": [
        {
          "output_type": "execute_result",
          "data": {
            "text/plain": [
              "matrix([[-1,  5],\n",
              "        [ 1, -2],\n",
              "        [ 4,  8]])"
            ]
          },
          "metadata": {},
          "execution_count": 55
        }
      ]
    },
    {
      "cell_type": "markdown",
      "source": [
        "**2 задача**\n",
        "Создать матрицу размером 8х8 элементов, состоящую из нулей. Заполнить эту матрицу значениями, расположенными в шахматном порядке. Задачу решить через срезы массива NumPy (должно получиться буквально двумя командами). Должно получиться так: image.png\n",
        "\n",
        "Вывести полученную матрицу на экран.![image.png](data:image/png;base64,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)"
      ],
      "metadata": {
        "id": "fqwm4SFyHEZa"
      }
    },
    {
      "cell_type": "code",
      "source": [
        "x = np.zeros((8,8),dtype=int) # создаем матрицу 8*8 из нулей типом int\n",
        "print(x) # выводим"
      ],
      "metadata": {
        "colab": {
          "base_uri": "https://localhost:8080/"
        },
        "id": "BoBWGVKYIKmW",
        "outputId": "c0259396-2ea4-4477-d375-740d52c68117"
      },
      "execution_count": null,
      "outputs": [
        {
          "output_type": "stream",
          "name": "stdout",
          "text": [
            "[[0 0 0 0 0 0 0 0]\n",
            " [0 0 0 0 0 0 0 0]\n",
            " [0 0 0 0 0 0 0 0]\n",
            " [0 0 0 0 0 0 0 0]\n",
            " [0 0 0 0 0 0 0 0]\n",
            " [0 0 0 0 0 0 0 0]\n",
            " [0 0 0 0 0 0 0 0]\n",
            " [0 0 0 0 0 0 0 0]]\n"
          ]
        }
      ]
    },
    {
      "cell_type": "code",
      "source": [
        "x[1::2,::2] = 1\n",
        "x[::2,1::2] = 1 # Редактируем строки и столбцы\n",
        "\n",
        "print(x) # выводим"
      ],
      "metadata": {
        "colab": {
          "base_uri": "https://localhost:8080/"
        },
        "id": "m3B887xfIqDN",
        "outputId": "6a9c5168-b0dd-47f7-9b87-ef03f8e9f3da"
      },
      "execution_count": null,
      "outputs": [
        {
          "output_type": "stream",
          "name": "stdout",
          "text": [
            "[[0 1 0 1 0 1 0 1]\n",
            " [1 0 1 0 1 0 1 0]\n",
            " [0 1 0 1 0 1 0 1]\n",
            " [1 0 1 0 1 0 1 0]\n",
            " [0 1 0 1 0 1 0 1]\n",
            " [1 0 1 0 1 0 1 0]\n",
            " [0 1 0 1 0 1 0 1]\n",
            " [1 0 1 0 1 0 1 0]]\n"
          ]
        }
      ]
    },
    {
      "cell_type": "markdown",
      "source": [
        "**3 задача**\n",
        "1. Сформировать два вектора: первый длиной 15 элементов со значениями от 0 до 1,4 с\n",
        "шагом 0,1; второй – длиной 6 элементов со значениями от 1 до 6.\n",
        "2. Преобразовать первый вектор в матрицу 5х3, а второй – в матрицу 3х2. Выполнить\n",
        "перемножение этих матриц. Сами матрицы и результат их перемножения вывести на экран."
      ],
      "metadata": {
        "id": "j_UiLBoQV7rD"
      }
    },
    {
      "cell_type": "code",
      "source": [
        "vec01 = np.arange(0, 1.5, step=0.1, dtype=\"float\") #генеририем от 0 1.4 c шагом 0.1, 5 элементов\n",
        "print(vec01)\n",
        "print(vec01.shape)\n",
        "print(vec01.size)\n",
        "arr1 = vec01.reshape(5,3)\n",
        "arr1\n"
      ],
      "metadata": {
        "colab": {
          "base_uri": "https://localhost:8080/"
        },
        "id": "VEEiQXSKWCyB",
        "outputId": "62768660-9444-4128-a6be-8a4aa8746aff"
      },
      "execution_count": null,
      "outputs": [
        {
          "output_type": "stream",
          "name": "stdout",
          "text": [
            "[0.  0.1 0.2 0.3 0.4 0.5 0.6 0.7 0.8 0.9 1.  1.1 1.2 1.3 1.4]\n",
            "(15,)\n",
            "15\n"
          ]
        },
        {
          "output_type": "execute_result",
          "data": {
            "text/plain": [
              "array([[0. , 0.1, 0.2],\n",
              "       [0.3, 0.4, 0.5],\n",
              "       [0.6, 0.7, 0.8],\n",
              "       [0.9, 1. , 1.1],\n",
              "       [1.2, 1.3, 1.4]])"
            ]
          },
          "metadata": {},
          "execution_count": 90
        }
      ]
    },
    {
      "cell_type": "code",
      "source": [
        "vec02 = np.arange(1, 7, step=1, dtype=\"float\") #генеририем от 1 до  6, 6 элементов\n",
        "print(vec02)\n",
        "print(vec02.shape)\n",
        "print(vec02.size)\n",
        "arr2 = vec02.reshape(3,2)\n",
        "print()\n",
        "arr2\n"
      ],
      "metadata": {
        "colab": {
          "base_uri": "https://localhost:8080/"
        },
        "id": "asK34JrTgvyH",
        "outputId": "ec30e75d-3dc7-4695-fa51-c6fbfc60e7b6"
      },
      "execution_count": null,
      "outputs": [
        {
          "output_type": "stream",
          "name": "stdout",
          "text": [
            "[1. 2. 3. 4. 5. 6.]\n",
            "(6,)\n",
            "6\n",
            "\n"
          ]
        },
        {
          "output_type": "execute_result",
          "data": {
            "text/plain": [
              "array([[1., 2.],\n",
              "       [3., 4.],\n",
              "       [5., 6.]])"
            ]
          },
          "metadata": {},
          "execution_count": 104
        }
      ]
    },
    {
      "cell_type": "code",
      "source": [
        "arr = arr1.dot(arr2)\n",
        "arr\n",
        "print()\n",
        "\n"
      ],
      "metadata": {
        "colab": {
          "base_uri": "https://localhost:8080/"
        },
        "id": "nG0R-TOclBnS",
        "outputId": "5238243e-bb83-4e61-f689-f3bcab61ee13"
      },
      "execution_count": null,
      "outputs": [
        {
          "output_type": "stream",
          "name": "stdout",
          "text": [
            "\n"
          ]
        },
        {
          "output_type": "execute_result",
          "data": {
            "text/plain": [
              "array([[ 1.3,  1.6],\n",
              "       [ 4. ,  5.2],\n",
              "       [ 6.7,  8.8],\n",
              "       [ 9.4, 12.4],\n",
              "       [12.1, 16. ]])"
            ]
          },
          "metadata": {},
          "execution_count": 109
        }
      ]
    },
    {
      "cell_type": "code",
      "source": [
        "arr3 = np.matmul(arr1, arr2)\n",
        "arr3"
      ],
      "metadata": {
        "colab": {
          "base_uri": "https://localhost:8080/"
        },
        "id": "9a_AWOaP9w4x",
        "outputId": "4ff592e3-e54c-4c65-ef4f-049c075001d6"
      },
      "execution_count": null,
      "outputs": [
        {
          "output_type": "execute_result",
          "data": {
            "text/plain": [
              "array([[ 1.3,  1.6],\n",
              "       [ 4. ,  5.2],\n",
              "       [ 6.7,  8.8],\n",
              "       [ 9.4, 12.4],\n",
              "       [12.1, 16. ]])"
            ]
          },
          "metadata": {},
          "execution_count": 110
        }
      ]
    },
    {
      "cell_type": "markdown",
      "source": [
        "**4 задача**\n",
        "1. Сформировать вектор из целых чисел (тип элементов должен быть int32) размерностью\n",
        "36 и значениями 1, 3, 5, 7, … и так далее.\n",
        "2. Выделить из этого вектора все элементы со значениями кратными 3. Вывести результат\n",
        "на экран (исходный вектор и с кратными числами)."
      ],
      "metadata": {
        "id": "wsmniOy095NP"
      }
    },
    {
      "cell_type": "code",
      "source": [
        "vec05 = np.arange(1, 36, dtype='int32')\n",
        "vec05\n"
      ],
      "metadata": {
        "colab": {
          "base_uri": "https://localhost:8080/"
        },
        "id": "FeURdyG89-Tk",
        "outputId": "f7964372-7e74-49fc-d07f-2b1ff79ad830"
      },
      "execution_count": null,
      "outputs": [
        {
          "output_type": "execute_result",
          "data": {
            "text/plain": [
              "array([ 1,  2,  3,  4,  5,  6,  7,  8,  9, 10, 11, 12, 13, 14, 15, 16, 17,\n",
              "       18, 19, 20, 21, 22, 23, 24, 25, 26, 27, 28, 29, 30, 31, 32, 33, 34,\n",
              "       35], dtype=int32)"
            ]
          },
          "metadata": {},
          "execution_count": 116
        }
      ]
    },
    {
      "cell_type": "code",
      "source": [
        "test_v = (vec05 % 3)\n",
        "print(test_v)"
      ],
      "metadata": {
        "colab": {
          "base_uri": "https://localhost:8080/"
        },
        "id": "DfnXneBwCWJM",
        "outputId": "27766cb4-cae3-44f9-abc7-fa2d207f1a8d"
      },
      "execution_count": null,
      "outputs": [
        {
          "output_type": "stream",
          "name": "stdout",
          "text": [
            "[1 2 0 1 2 0 1 2 0 1 2 0 1 2 0 1 2 0 1 2 0 1 2 0 1 2 0 1 2 0 1 2 0 1 2]\n"
          ]
        }
      ]
    }
  ]
}